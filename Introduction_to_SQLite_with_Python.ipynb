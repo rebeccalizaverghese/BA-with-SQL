{
  "nbformat": 4,
  "nbformat_minor": 0,
  "metadata": {
    "colab": {
      "name": "Introduction to SQLite with Python",
      "provenance": [],
      "authorship_tag": "ABX9TyN7UjbMdEPY/O87t5ytH1Ix",
      "include_colab_link": true
    },
    "kernelspec": {
      "name": "python3",
      "display_name": "Python 3"
    },
    "language_info": {
      "name": "python"
    }
  },
  "cells": [
    {
      "cell_type": "markdown",
      "metadata": {
        "id": "view-in-github",
        "colab_type": "text"
      },
      "source": [
        "<a href=\"https://colab.research.google.com/github/rebeccalizaverghese/BA-with-SQL/blob/main/Introduction_to_SQLite_with_Python.ipynb\" target=\"_parent\"><img src=\"https://colab.research.google.com/assets/colab-badge.svg\" alt=\"Open In Colab\"/></a>"
      ]
    },
    {
      "cell_type": "code",
      "execution_count": 2,
      "metadata": {
        "id": "1KD3vclh8Z6q"
      },
      "outputs": [],
      "source": [
        "import sqlite3"
      ]
    },
    {
      "cell_type": "code",
      "source": [
        "x = sqlite3.connect('NeDB 1.db')"
      ],
      "metadata": {
        "id": "q7j_dm_i8bIs"
      },
      "execution_count": 8,
      "outputs": []
    },
    {
      "cell_type": "code",
      "source": [
        "Y = x.cursor()"
      ],
      "metadata": {
        "id": "XsVuLedm8oU1"
      },
      "execution_count": 9,
      "outputs": []
    },
    {
      "cell_type": "code",
      "source": [
        "Y.execute('''CREATE TABLE Employee(date text, First_Name text, Last_Name text, Age real)''')"
      ],
      "metadata": {
        "colab": {
          "base_uri": "https://localhost:8080/"
        },
        "id": "k6Iyyhq-8tJ6",
        "outputId": "c6e067d5-e99f-41c3-ec1e-5a57a9adfdfe"
      },
      "execution_count": 10,
      "outputs": [
        {
          "output_type": "execute_result",
          "data": {
            "text/plain": [
              "<sqlite3.Cursor at 0x7fe938a12030>"
            ]
          },
          "metadata": {},
          "execution_count": 10
        }
      ]
    },
    {
      "cell_type": "code",
      "source": [
        "Y.execute(\"INSERT INTO Employee VALUES ('2020-01-01','John','Adam',32),('2020-01-01','Mike','Joseph',30),('2020-01-01','Ann','Maria',32);\")"
      ],
      "metadata": {
        "colab": {
          "base_uri": "https://localhost:8080/"
        },
        "id": "GX5B_bp28_SY",
        "outputId": "96a35fd1-0e55-47e9-f641-bab5bb7bb239"
      },
      "execution_count": 11,
      "outputs": [
        {
          "output_type": "execute_result",
          "data": {
            "text/plain": [
              "<sqlite3.Cursor at 0x7fe938a12030>"
            ]
          },
          "metadata": {},
          "execution_count": 11
        }
      ]
    },
    {
      "cell_type": "code",
      "source": [
        "x.commit()"
      ],
      "metadata": {
        "id": "yidbgzCc9k2e"
      },
      "execution_count": 12,
      "outputs": []
    },
    {
      "cell_type": "code",
      "source": [
        "Y.close()"
      ],
      "metadata": {
        "id": "zKgfxGtl9m8k"
      },
      "execution_count": 13,
      "outputs": []
    },
    {
      "cell_type": "code",
      "source": [
        "import sqlite3"
      ],
      "metadata": {
        "id": "u8EC0M699oQD"
      },
      "execution_count": 14,
      "outputs": []
    },
    {
      "cell_type": "code",
      "source": [
        "conn = sqlite3.connect('Newdb3.db')"
      ],
      "metadata": {
        "id": "74YGzzfL9-2y"
      },
      "execution_count": 16,
      "outputs": []
    },
    {
      "cell_type": "code",
      "source": [
        "cursor = conn.cursor()"
      ],
      "metadata": {
        "id": "uilwNRi4-F25"
      },
      "execution_count": 17,
      "outputs": []
    },
    {
      "cell_type": "code",
      "source": [
        ""
      ],
      "metadata": {
        "id": "7UCmDasr-LHq"
      },
      "execution_count": 23,
      "outputs": []
    },
    {
      "cell_type": "code",
      "source": [
        ""
      ],
      "metadata": {
        "id": "W5LKt-hO-mNy"
      },
      "execution_count": 23,
      "outputs": []
    },
    {
      "cell_type": "code",
      "source": [
        "import sqlite3\n",
        " \n",
        "conn = sqlite3.connect('NewDB4.db')\n",
        "\n",
        " \n",
        "cursor = conn.cursor()\n",
        "\n",
        " \n",
        "table =\"\"\"CREATE TABLE STUDENT(NAME VARCHAR(255), CLASS VARCHAR(255), SECTION VARCHAR(255));\"\"\"\n",
        "cursor.execute(table)\n",
        "\n",
        "students = [('John', '8', 'A'),\n",
        "   ('Adam', '8', 'B'),\n",
        "   ('Ann', '10', 'A'),\n",
        "]\n",
        "\n",
        "cursor.executemany('INSERT INTO STUDENT VALUES (?,?,?)', students)\n",
        "\n",
        "print(\"Data Inserted in the table: \")\n",
        "data=cursor.execute('''SELECT * FROM STUDENT''')\n",
        "for row in data:\n",
        "\tprint(row)\n",
        "\n",
        "\n",
        "conn.commit()\n",
        "\n",
        "conn.close()"
      ],
      "metadata": {
        "colab": {
          "base_uri": "https://localhost:8080/"
        },
        "id": "TX2fjC2d-5Ft",
        "outputId": "72063f47-862b-486a-ec00-5e627f262bde"
      },
      "execution_count": 23,
      "outputs": [
        {
          "output_type": "stream",
          "name": "stdout",
          "text": [
            "Data Inserted in the table: \n",
            "('John', '8', 'A')\n",
            "('Adam', '8', 'B')\n",
            "('Ann', '10', 'A')\n"
          ]
        }
      ]
    },
    {
      "cell_type": "code",
      "source": [
        "import sqlite3\n",
        " \n",
        "conn = sqlite3.connect('NewDB001.db')\n",
        "\n",
        " \n",
        "cursor = conn.cursor()\n",
        "\n",
        " \n",
        "table =\"\"\"CREATE TABLE STUDENT(NAME VARCHAR(255), CLASS VARCHAR(255), SECTION VARCHAR(255));\"\"\"\n",
        "cursor.execute(table)\n",
        "\n",
        "\n",
        "cursor.execute('''INSERT INTO STUDENT VALUES ('John', '8', 'A')''')\n",
        "cursor.execute('''INSERT INTO STUDENT VALUES ('Adam', '8', 'B')''')\n",
        "cursor.execute('''INSERT INTO STUDENT VALUES ('Ann', '10', 'A')''')\n",
        "\n",
        "\n",
        "print(\"Data Inserted in the table: \")\n",
        "data=cursor.execute('''SELECT * FROM STUDENT''')\n",
        "for row in data:\n",
        "\tprint(row)\n",
        "\n",
        "\n",
        "conn.commit()\n",
        "\n",
        "conn.close()"
      ],
      "metadata": {
        "colab": {
          "base_uri": "https://localhost:8080/"
        },
        "id": "AG9_r2zj_T24",
        "outputId": "de042558-2bb2-4c43-be88-198b1fdfb29f"
      },
      "execution_count": 24,
      "outputs": [
        {
          "output_type": "stream",
          "name": "stdout",
          "text": [
            "Data Inserted in the table: \n",
            "('John', '8', 'A')\n",
            "('Adam', '8', 'B')\n",
            "('Ann', '10', 'A')\n"
          ]
        }
      ]
    },
    {
      "cell_type": "code",
      "source": [
        "import sqlite3\n",
        " \n",
        "conn = sqlite3.connect('NewDB.db')\n",
        "\n",
        " \n",
        "cursor = conn.cursor()\n",
        "\n",
        " \n",
        "table =\"\"\"CREATE TABLE STUDENT(NAME VARCHAR(255), CLASS VARCHAR(255), SECTION VARCHAR(255));\"\"\"\n",
        "cursor.execute(table)\n",
        "\n",
        "\n",
        "cursor.execute('''INSERT INTO STUDENT VALUES ('John', '8', 'A')''')\n",
        "cursor.execute('''INSERT INTO STUDENT VALUES ('Adam', '8', 'B')''')\n",
        "cursor.execute('''INSERT INTO STUDENT VALUES ('Ann', '10', 'A')''')\n",
        "\n",
        "\n",
        "cursor.execute(\"SELECT * FROM STUDENT WHERE CLASS = '10'\")\n",
        "\n",
        "print(cursor.fetchall())\n",
        "  \n",
        "conn.commit()\n",
        "conn.close()\n",
        "\n",
        "\n",
        "conn.close()"
      ],
      "metadata": {
        "colab": {
          "base_uri": "https://localhost:8080/"
        },
        "id": "iUAkCrVm_yyL",
        "outputId": "6e7379f1-5d7b-4393-cb60-01f0e4eadf10"
      },
      "execution_count": 26,
      "outputs": [
        {
          "output_type": "stream",
          "name": "stdout",
          "text": [
            "[('Ann', '10', 'A')]\n"
          ]
        }
      ]
    },
    {
      "cell_type": "code",
      "source": [
        "import sqlite3\n",
        "conn = sqlite3.connect('NewDB10.db')\n",
        "cursor = conn.cursor()\n",
        "table =\"\"\"CREATE TABLE CLASS(NAME VARCHAR(255), CLASS VARCHAR(255), SECTION VARCHAR(255));\"\"\"\n",
        "cursor.execute(table)\n",
        "cursor.execute('''INSERT INTO CLASS VALUES ('John', '8', 'A')''')\n",
        "cursor.execute('''INSERT INTO CLASS VALUES ('Adam', '8', 'B')''')\n",
        "cursor.execute('''INSERT INTO CLASS VALUES ('Ann', '10', 'A')''')\n",
        "cursor.execute(\"SELECT * FROM CLASS WHERE NAME Like'A%'\")\n",
        "\n",
        "print(cursor.fetchall())\n",
        "conn.commit()\n",
        "conn.close()"
      ],
      "metadata": {
        "colab": {
          "base_uri": "https://localhost:8080/"
        },
        "id": "g9HFzZNBANIY",
        "outputId": "810a4506-6d97-44f0-bef3-2d88451fb69e"
      },
      "execution_count": 34,
      "outputs": [
        {
          "output_type": "stream",
          "name": "stdout",
          "text": [
            "[('Adam', '8', 'B'), ('Ann', '10', 'A')]\n"
          ]
        }
      ]
    },
    {
      "cell_type": "code",
      "source": [
        "import sqlite3\n",
        "conn = sqlite3.connect('Newdb12.db')\n",
        "cursor = conn.cursor()\n",
        "table =\"\"\"CREATE TABLE STUDENT (NAME VARCHAR(255), CLASS VARCHAR(255), SECTION VARCHAR(255));\"\"\"\n",
        "cursor.execute(table)\n",
        "cursor.execute('''INSERT INTO STUDENT VALUES ('John', '8', 'A')''')\n",
        "cursor.execute('''INSERT INTO STUDENT VALUES ('Adam', '8', 'B')''')\n",
        "cursor.execute('''INSERT INTO STUDENT VALUES ('Ann', '10', 'A')''')\n",
        "cursor.execute(\"SELECT * FROM STUDENT ORDER BY NAME DESC\")\n",
        "print(cursor.fetchall())\n",
        "conn.commit()\n",
        "conn.close()\n",
        "\n",
        "\n",
        "\n",
        "\n"
      ],
      "metadata": {
        "colab": {
          "base_uri": "https://localhost:8080/"
        },
        "id": "E0pA3p5DDJHJ",
        "outputId": "048a13b1-7a62-4cd6-cd46-54bc183aa5f8"
      },
      "execution_count": 31,
      "outputs": [
        {
          "output_type": "stream",
          "name": "stdout",
          "text": [
            "[('John', '8', 'A'), ('Ann', '10', 'A'), ('Adam', '8', 'B')]\n"
          ]
        }
      ]
    },
    {
      "cell_type": "code",
      "source": [
        "import sqlite3\n",
        "conn = sqlite3.connect('Newdb13.db')\n",
        "cursor = conn.cursor()\n",
        "table =\"\"\"CREATE TABLE STUDENT (NAME VARCHAR(255), CLASS VARCHAR(255), SECTION VARCHAR(255));\"\"\"\n",
        "cursor.execute(table)\n",
        "cursor.execute('''INSERT INTO STUDENT VALUES ('John', '8', 'A')''')\n",
        "cursor.execute('''INSERT INTO STUDENT VALUES ('Adam', '8', 'B')''')\n",
        "cursor.execute('''INSERT INTO STUDENT VALUES ('Ann', '10', 'A')''')\n",
        "cursor.execute(\"SELECT NAME, CLASS FROM STUDENT ORDER BY NAME DESC\")\n",
        "print(cursor.fetchall())\n",
        "conn.commit()\n",
        "conn.close()"
      ],
      "metadata": {
        "colab": {
          "base_uri": "https://localhost:8080/"
        },
        "id": "XnpnJh40DLer",
        "outputId": "42e8520f-c4a5-4b24-cebd-3fd67711235c"
      },
      "execution_count": 33,
      "outputs": [
        {
          "output_type": "stream",
          "name": "stdout",
          "text": [
            "[('John', '8'), ('Ann', '10'), ('Adam', '8')]\n"
          ]
        }
      ]
    },
    {
      "cell_type": "code",
      "source": [
        ""
      ],
      "metadata": {
        "id": "rOLve5LGFuKn"
      },
      "execution_count": null,
      "outputs": []
    }
  ]
}